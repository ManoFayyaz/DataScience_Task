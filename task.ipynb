{
 "cells": [
  {
   "cell_type": "code",
   "execution_count": 27,
   "id": "c90a3e79",
   "metadata": {},
   "outputs": [],
   "source": [
    "import pandas as pd\n",
    "import numpy as np\n",
    "import matplotlib.pyplot as plt\n",
    "import seaborn as sns"
   ]
  },
  {
   "cell_type": "code",
   "execution_count": 28,
   "id": "79fe8cbe",
   "metadata": {},
   "outputs": [],
   "source": [
    "df=sns.load_dataset(\"titanic\")"
   ]
  },
  {
   "cell_type": "code",
   "execution_count": 29,
   "id": "4c6f0133",
   "metadata": {},
   "outputs": [],
   "source": [
    "df=pd.DataFrame(df)"
   ]
  },
  {
   "cell_type": "code",
   "execution_count": 30,
   "id": "c66b65a0",
   "metadata": {},
   "outputs": [
    {
     "name": "stdout",
     "output_type": "stream",
     "text": [
      "survived         0\n",
      "pclass           0\n",
      "sex              0\n",
      "age            177\n",
      "sibsp            0\n",
      "parch            0\n",
      "fare             0\n",
      "embarked         2\n",
      "class            0\n",
      "who              0\n",
      "adult_male       0\n",
      "deck           688\n",
      "embark_town      2\n",
      "alive            0\n",
      "alone            0\n",
      "dtype: int64\n"
     ]
    }
   ],
   "source": [
    "print(df.isnull().sum())"
   ]
  },
  {
   "cell_type": "code",
   "execution_count": 31,
   "id": "abf84018",
   "metadata": {},
   "outputs": [],
   "source": [
    "df=df.drop(['deck','age'],axis=1)"
   ]
  },
  {
   "cell_type": "code",
   "execution_count": 32,
   "id": "f2c82b6b",
   "metadata": {},
   "outputs": [
    {
     "name": "stdout",
     "output_type": "stream",
     "text": [
      "survived       0\n",
      "pclass         0\n",
      "sex            0\n",
      "sibsp          0\n",
      "parch          0\n",
      "fare           0\n",
      "embarked       2\n",
      "class          0\n",
      "who            0\n",
      "adult_male     0\n",
      "embark_town    2\n",
      "alive          0\n",
      "alone          0\n",
      "dtype: int64\n"
     ]
    }
   ],
   "source": [
    "print(df.isnull().sum())"
   ]
  },
  {
   "cell_type": "code",
   "execution_count": 33,
   "id": "d09287ce",
   "metadata": {},
   "outputs": [],
   "source": [
    "df.dropna(inplace=True)"
   ]
  },
  {
   "cell_type": "code",
   "execution_count": 34,
   "id": "6e50bb71",
   "metadata": {},
   "outputs": [
    {
     "data": {
      "text/html": [
       "<div>\n",
       "<style scoped>\n",
       "    .dataframe tbody tr th:only-of-type {\n",
       "        vertical-align: middle;\n",
       "    }\n",
       "\n",
       "    .dataframe tbody tr th {\n",
       "        vertical-align: top;\n",
       "    }\n",
       "\n",
       "    .dataframe thead th {\n",
       "        text-align: right;\n",
       "    }\n",
       "</style>\n",
       "<table border=\"1\" class=\"dataframe\">\n",
       "  <thead>\n",
       "    <tr style=\"text-align: right;\">\n",
       "      <th></th>\n",
       "      <th>survived</th>\n",
       "      <th>pclass</th>\n",
       "      <th>sex</th>\n",
       "      <th>sibsp</th>\n",
       "      <th>parch</th>\n",
       "      <th>fare</th>\n",
       "      <th>embarked</th>\n",
       "      <th>class</th>\n",
       "      <th>who</th>\n",
       "      <th>adult_male</th>\n",
       "      <th>embark_town</th>\n",
       "      <th>alive</th>\n",
       "      <th>alone</th>\n",
       "    </tr>\n",
       "  </thead>\n",
       "  <tbody>\n",
       "    <tr>\n",
       "      <th>0</th>\n",
       "      <td>0</td>\n",
       "      <td>3</td>\n",
       "      <td>male</td>\n",
       "      <td>1</td>\n",
       "      <td>0</td>\n",
       "      <td>7.2500</td>\n",
       "      <td>S</td>\n",
       "      <td>Third</td>\n",
       "      <td>man</td>\n",
       "      <td>True</td>\n",
       "      <td>Southampton</td>\n",
       "      <td>no</td>\n",
       "      <td>False</td>\n",
       "    </tr>\n",
       "    <tr>\n",
       "      <th>1</th>\n",
       "      <td>1</td>\n",
       "      <td>1</td>\n",
       "      <td>female</td>\n",
       "      <td>1</td>\n",
       "      <td>0</td>\n",
       "      <td>71.2833</td>\n",
       "      <td>C</td>\n",
       "      <td>First</td>\n",
       "      <td>woman</td>\n",
       "      <td>False</td>\n",
       "      <td>Cherbourg</td>\n",
       "      <td>yes</td>\n",
       "      <td>False</td>\n",
       "    </tr>\n",
       "    <tr>\n",
       "      <th>2</th>\n",
       "      <td>1</td>\n",
       "      <td>3</td>\n",
       "      <td>female</td>\n",
       "      <td>0</td>\n",
       "      <td>0</td>\n",
       "      <td>7.9250</td>\n",
       "      <td>S</td>\n",
       "      <td>Third</td>\n",
       "      <td>woman</td>\n",
       "      <td>False</td>\n",
       "      <td>Southampton</td>\n",
       "      <td>yes</td>\n",
       "      <td>True</td>\n",
       "    </tr>\n",
       "    <tr>\n",
       "      <th>3</th>\n",
       "      <td>1</td>\n",
       "      <td>1</td>\n",
       "      <td>female</td>\n",
       "      <td>1</td>\n",
       "      <td>0</td>\n",
       "      <td>53.1000</td>\n",
       "      <td>S</td>\n",
       "      <td>First</td>\n",
       "      <td>woman</td>\n",
       "      <td>False</td>\n",
       "      <td>Southampton</td>\n",
       "      <td>yes</td>\n",
       "      <td>False</td>\n",
       "    </tr>\n",
       "    <tr>\n",
       "      <th>4</th>\n",
       "      <td>0</td>\n",
       "      <td>3</td>\n",
       "      <td>male</td>\n",
       "      <td>0</td>\n",
       "      <td>0</td>\n",
       "      <td>8.0500</td>\n",
       "      <td>S</td>\n",
       "      <td>Third</td>\n",
       "      <td>man</td>\n",
       "      <td>True</td>\n",
       "      <td>Southampton</td>\n",
       "      <td>no</td>\n",
       "      <td>True</td>\n",
       "    </tr>\n",
       "    <tr>\n",
       "      <th>5</th>\n",
       "      <td>0</td>\n",
       "      <td>3</td>\n",
       "      <td>male</td>\n",
       "      <td>0</td>\n",
       "      <td>0</td>\n",
       "      <td>8.4583</td>\n",
       "      <td>Q</td>\n",
       "      <td>Third</td>\n",
       "      <td>man</td>\n",
       "      <td>True</td>\n",
       "      <td>Queenstown</td>\n",
       "      <td>no</td>\n",
       "      <td>True</td>\n",
       "    </tr>\n",
       "    <tr>\n",
       "      <th>6</th>\n",
       "      <td>0</td>\n",
       "      <td>1</td>\n",
       "      <td>male</td>\n",
       "      <td>0</td>\n",
       "      <td>0</td>\n",
       "      <td>51.8625</td>\n",
       "      <td>S</td>\n",
       "      <td>First</td>\n",
       "      <td>man</td>\n",
       "      <td>True</td>\n",
       "      <td>Southampton</td>\n",
       "      <td>no</td>\n",
       "      <td>True</td>\n",
       "    </tr>\n",
       "    <tr>\n",
       "      <th>7</th>\n",
       "      <td>0</td>\n",
       "      <td>3</td>\n",
       "      <td>male</td>\n",
       "      <td>3</td>\n",
       "      <td>1</td>\n",
       "      <td>21.0750</td>\n",
       "      <td>S</td>\n",
       "      <td>Third</td>\n",
       "      <td>child</td>\n",
       "      <td>False</td>\n",
       "      <td>Southampton</td>\n",
       "      <td>no</td>\n",
       "      <td>False</td>\n",
       "    </tr>\n",
       "    <tr>\n",
       "      <th>8</th>\n",
       "      <td>1</td>\n",
       "      <td>3</td>\n",
       "      <td>female</td>\n",
       "      <td>0</td>\n",
       "      <td>2</td>\n",
       "      <td>11.1333</td>\n",
       "      <td>S</td>\n",
       "      <td>Third</td>\n",
       "      <td>woman</td>\n",
       "      <td>False</td>\n",
       "      <td>Southampton</td>\n",
       "      <td>yes</td>\n",
       "      <td>False</td>\n",
       "    </tr>\n",
       "    <tr>\n",
       "      <th>9</th>\n",
       "      <td>1</td>\n",
       "      <td>2</td>\n",
       "      <td>female</td>\n",
       "      <td>1</td>\n",
       "      <td>0</td>\n",
       "      <td>30.0708</td>\n",
       "      <td>C</td>\n",
       "      <td>Second</td>\n",
       "      <td>child</td>\n",
       "      <td>False</td>\n",
       "      <td>Cherbourg</td>\n",
       "      <td>yes</td>\n",
       "      <td>False</td>\n",
       "    </tr>\n",
       "  </tbody>\n",
       "</table>\n",
       "</div>"
      ],
      "text/plain": [
       "   survived  pclass     sex  sibsp  parch     fare embarked   class    who  \\\n",
       "0         0       3    male      1      0   7.2500        S   Third    man   \n",
       "1         1       1  female      1      0  71.2833        C   First  woman   \n",
       "2         1       3  female      0      0   7.9250        S   Third  woman   \n",
       "3         1       1  female      1      0  53.1000        S   First  woman   \n",
       "4         0       3    male      0      0   8.0500        S   Third    man   \n",
       "5         0       3    male      0      0   8.4583        Q   Third    man   \n",
       "6         0       1    male      0      0  51.8625        S   First    man   \n",
       "7         0       3    male      3      1  21.0750        S   Third  child   \n",
       "8         1       3  female      0      2  11.1333        S   Third  woman   \n",
       "9         1       2  female      1      0  30.0708        C  Second  child   \n",
       "\n",
       "   adult_male  embark_town alive  alone  \n",
       "0        True  Southampton    no  False  \n",
       "1       False    Cherbourg   yes  False  \n",
       "2       False  Southampton   yes   True  \n",
       "3       False  Southampton   yes  False  \n",
       "4        True  Southampton    no   True  \n",
       "5        True   Queenstown    no   True  \n",
       "6        True  Southampton    no   True  \n",
       "7       False  Southampton    no  False  \n",
       "8       False  Southampton   yes  False  \n",
       "9       False    Cherbourg   yes  False  "
      ]
     },
     "execution_count": 34,
     "metadata": {},
     "output_type": "execute_result"
    }
   ],
   "source": [
    "df.head(10)"
   ]
  },
  {
   "cell_type": "code",
   "execution_count": 35,
   "id": "f8cb1857",
   "metadata": {},
   "outputs": [
    {
     "name": "stdout",
     "output_type": "stream",
     "text": [
      "<class 'pandas.core.frame.DataFrame'>\n",
      "Index: 889 entries, 0 to 890\n",
      "Data columns (total 13 columns):\n",
      " #   Column       Non-Null Count  Dtype   \n",
      "---  ------       --------------  -----   \n",
      " 0   survived     889 non-null    int64   \n",
      " 1   pclass       889 non-null    int64   \n",
      " 2   sex          889 non-null    object  \n",
      " 3   sibsp        889 non-null    int64   \n",
      " 4   parch        889 non-null    int64   \n",
      " 5   fare         889 non-null    float64 \n",
      " 6   embarked     889 non-null    object  \n",
      " 7   class        889 non-null    category\n",
      " 8   who          889 non-null    object  \n",
      " 9   adult_male   889 non-null    bool    \n",
      " 10  embark_town  889 non-null    object  \n",
      " 11  alive        889 non-null    object  \n",
      " 12  alone        889 non-null    bool    \n",
      "dtypes: bool(2), category(1), float64(1), int64(4), object(5)\n",
      "memory usage: 79.1+ KB\n"
     ]
    }
   ],
   "source": [
    "df.info()"
   ]
  },
  {
   "cell_type": "code",
   "execution_count": 36,
   "id": "f891c6c7",
   "metadata": {},
   "outputs": [
    {
     "data": {
      "text/html": [
       "<div>\n",
       "<style scoped>\n",
       "    .dataframe tbody tr th:only-of-type {\n",
       "        vertical-align: middle;\n",
       "    }\n",
       "\n",
       "    .dataframe tbody tr th {\n",
       "        vertical-align: top;\n",
       "    }\n",
       "\n",
       "    .dataframe thead th {\n",
       "        text-align: right;\n",
       "    }\n",
       "</style>\n",
       "<table border=\"1\" class=\"dataframe\">\n",
       "  <thead>\n",
       "    <tr style=\"text-align: right;\">\n",
       "      <th></th>\n",
       "      <th>survived</th>\n",
       "      <th>pclass</th>\n",
       "      <th>sibsp</th>\n",
       "      <th>parch</th>\n",
       "      <th>fare</th>\n",
       "    </tr>\n",
       "  </thead>\n",
       "  <tbody>\n",
       "    <tr>\n",
       "      <th>count</th>\n",
       "      <td>889.000000</td>\n",
       "      <td>889.000000</td>\n",
       "      <td>889.000000</td>\n",
       "      <td>889.000000</td>\n",
       "      <td>889.000000</td>\n",
       "    </tr>\n",
       "    <tr>\n",
       "      <th>mean</th>\n",
       "      <td>0.382452</td>\n",
       "      <td>2.311586</td>\n",
       "      <td>0.524184</td>\n",
       "      <td>0.382452</td>\n",
       "      <td>32.096681</td>\n",
       "    </tr>\n",
       "    <tr>\n",
       "      <th>std</th>\n",
       "      <td>0.486260</td>\n",
       "      <td>0.834700</td>\n",
       "      <td>1.103705</td>\n",
       "      <td>0.806761</td>\n",
       "      <td>49.697504</td>\n",
       "    </tr>\n",
       "    <tr>\n",
       "      <th>min</th>\n",
       "      <td>0.000000</td>\n",
       "      <td>1.000000</td>\n",
       "      <td>0.000000</td>\n",
       "      <td>0.000000</td>\n",
       "      <td>0.000000</td>\n",
       "    </tr>\n",
       "    <tr>\n",
       "      <th>25%</th>\n",
       "      <td>0.000000</td>\n",
       "      <td>2.000000</td>\n",
       "      <td>0.000000</td>\n",
       "      <td>0.000000</td>\n",
       "      <td>7.895800</td>\n",
       "    </tr>\n",
       "    <tr>\n",
       "      <th>50%</th>\n",
       "      <td>0.000000</td>\n",
       "      <td>3.000000</td>\n",
       "      <td>0.000000</td>\n",
       "      <td>0.000000</td>\n",
       "      <td>14.454200</td>\n",
       "    </tr>\n",
       "    <tr>\n",
       "      <th>75%</th>\n",
       "      <td>1.000000</td>\n",
       "      <td>3.000000</td>\n",
       "      <td>1.000000</td>\n",
       "      <td>0.000000</td>\n",
       "      <td>31.000000</td>\n",
       "    </tr>\n",
       "    <tr>\n",
       "      <th>max</th>\n",
       "      <td>1.000000</td>\n",
       "      <td>3.000000</td>\n",
       "      <td>8.000000</td>\n",
       "      <td>6.000000</td>\n",
       "      <td>512.329200</td>\n",
       "    </tr>\n",
       "  </tbody>\n",
       "</table>\n",
       "</div>"
      ],
      "text/plain": [
       "         survived      pclass       sibsp       parch        fare\n",
       "count  889.000000  889.000000  889.000000  889.000000  889.000000\n",
       "mean     0.382452    2.311586    0.524184    0.382452   32.096681\n",
       "std      0.486260    0.834700    1.103705    0.806761   49.697504\n",
       "min      0.000000    1.000000    0.000000    0.000000    0.000000\n",
       "25%      0.000000    2.000000    0.000000    0.000000    7.895800\n",
       "50%      0.000000    3.000000    0.000000    0.000000   14.454200\n",
       "75%      1.000000    3.000000    1.000000    0.000000   31.000000\n",
       "max      1.000000    3.000000    8.000000    6.000000  512.329200"
      ]
     },
     "execution_count": 36,
     "metadata": {},
     "output_type": "execute_result"
    }
   ],
   "source": [
    "df.describe()"
   ]
  },
  {
   "cell_type": "code",
   "execution_count": 37,
   "id": "cfa74502",
   "metadata": {},
   "outputs": [
    {
     "name": "stdout",
     "output_type": "stream",
     "text": [
      "375\n"
     ]
    }
   ],
   "source": [
    "print(df.duplicated().sum())"
   ]
  },
  {
   "cell_type": "code",
   "execution_count": 38,
   "id": "69e48a28",
   "metadata": {},
   "outputs": [
    {
     "name": "stdout",
     "output_type": "stream",
     "text": [
      "(889, 13)\n"
     ]
    }
   ],
   "source": [
    "print(df.shape)"
   ]
  },
  {
   "cell_type": "code",
   "execution_count": 39,
   "id": "f956c22a",
   "metadata": {},
   "outputs": [],
   "source": [
    "df=df.drop_duplicates()"
   ]
  },
  {
   "cell_type": "code",
   "execution_count": 40,
   "id": "792b0844",
   "metadata": {},
   "outputs": [
    {
     "name": "stdout",
     "output_type": "stream",
     "text": [
      "(514, 13)\n"
     ]
    }
   ],
   "source": [
    "print(df.shape)"
   ]
  },
  {
   "cell_type": "code",
   "execution_count": 41,
   "id": "99f3fe92",
   "metadata": {},
   "outputs": [
    {
     "name": "stdout",
     "output_type": "stream",
     "text": [
      "[0 3 'male' 1 7.25 'S' 'Third' 'man' 'Southampton' 'no' 'female' 71.2833\n",
      " 'C' 'First' 'woman' 'Cherbourg' 'yes' 7.925 53.1 8.05 8.4583 'Q'\n",
      " 'Queenstown' 51.8625 21.075 'child' 2 11.1333 30.0708 'Second' 16.7 26.55\n",
      " 5 31.275 7.8542 16.0 4 29.125 13.0 18.0 7.225 26.0 8.0292 35.5 31.3875\n",
      " 263.0 7.8792 7.8958 27.7208 146.5208 7.75 10.5 82.1708 52.0 7.2292\n",
      " 11.2417 9.475 21.0 41.5792 15.5 21.6792 17.8 39.6875 7.8 76.7292 61.9792\n",
      " 27.75 46.9 83.475 27.9 15.2458 8.1583 8.6625 73.5 14.4542 56.4958 7.65\n",
      " 29.0 12.475 9.0 9.5 7.7875 47.1 15.85 34.375 61.175 20.575 34.6542\n",
      " 63.3583 23.0 77.2875 8.6542 7.775 24.15 9.825 14.4583 247.5208 7.1417\n",
      " 22.3583 6.975 7.05 14.5 15.0458 26.2833 9.2167 79.2 6.75 11.5 36.75\n",
      " 7.7958 12.525 66.6 7.3125 61.3792 7.7333 8 69.55 16.1 15.75 20.525 55.0\n",
      " 25.925 33.5 30.6958 25.4667 28.7125 15.05 39.0 22.025 50.0 8.4042 6.4958\n",
      " 10.4625 18.7875 31.0 113.275 27.0 76.2917 90.0 9.35 13.5 7.55 26.25\n",
      " 12.275 7.125 52.5542 20.2125 86.5 512.3292 79.65 153.4625 135.6333 19.5\n",
      " 29.7 77.9583 20.25 78.85 91.0792 12.875 8.85 151.55 30.5 23.25 12.35\n",
      " 110.8833 108.9 24.0 56.9292 83.1583 262.375 14.0 164.8667 134.5 6.2375\n",
      " 57.9792 28.5 133.65 15.9 9.225 35.0 75.25 69.3 55.4417 211.5 4.0125\n",
      " 227.525 15.7417 7.7292 12.0 120.0 12.65 18.75 6.8583 32.5 7.875 14.4 55.9\n",
      " 8.1125 81.8583 19.2583 19.9667 89.1042 38.5 7.725 13.7917 9.8375 7.0458\n",
      " 7.5208 12.2875 9.5875 49.5042 78.2667 15.1 7.6292 22.525 26.2875 59.4\n",
      " 7.4958 34.0208 93.5 221.7792 106.425 49.5 71.0 13.8625 7.8292 39.6 17.4\n",
      " 51.4792 26.3875 30.0 40.125 8.7125 15.0 33.0 42.4 15.55 65.0 32.3208\n",
      " 7.0542 8.4333 25.5875 9.8417 6 8.1375 10.1708 211.3375 57.0 13.4167\n",
      " 7.7417 9.4833 7.7375 8.3625 23.45 25.9292 8.6833 8.5167 7.8875 37.0042\n",
      " 6.45 6.95 8.3 6.4375 39.4 14.1083 13.8583 50.4958 9.8458 10.5167]\n"
     ]
    }
   ],
   "source": [
    "print(pd.unique(df.values.ravel()))\n"
   ]
  },
  {
   "cell_type": "code",
   "execution_count": 42,
   "id": "c2276027",
   "metadata": {},
   "outputs": [],
   "source": [
    "from sklearn.preprocessing import LabelEncoder\n"
   ]
  },
  {
   "cell_type": "code",
   "execution_count": 43,
   "id": "2673f99e",
   "metadata": {},
   "outputs": [],
   "source": [
    "label=LabelEncoder()"
   ]
  },
  {
   "cell_type": "code",
   "execution_count": 44,
   "id": "995daa90",
   "metadata": {},
   "outputs": [
    {
     "name": "stdout",
     "output_type": "stream",
     "text": [
      "Index(['survived', 'pclass', 'sex', 'sibsp', 'parch', 'fare', 'embarked',\n",
      "       'class', 'who', 'adult_male', 'embark_town', 'alive', 'alone'],\n",
      "      dtype='object')\n"
     ]
    }
   ],
   "source": [
    "\n",
    "print(df.columns)"
   ]
  },
  {
   "cell_type": "code",
   "execution_count": 45,
   "id": "d4209036",
   "metadata": {},
   "outputs": [],
   "source": [
    "df['sex']=label.fit_transform(df['sex'])"
   ]
  },
  {
   "cell_type": "code",
   "execution_count": 46,
   "id": "f5b2ac44",
   "metadata": {},
   "outputs": [],
   "source": [
    "df['alive']=label.fit_transform(df['alive'])\n",
    "df['alone']=label.fit_transform(df['alone'])"
   ]
  },
  {
   "cell_type": "code",
   "execution_count": 22,
   "id": "75b50bce",
   "metadata": {},
   "outputs": [],
   "source": [
    "df['class']=label.fit_transform(df['class'])"
   ]
  },
  {
   "cell_type": "code",
   "execution_count": 47,
   "id": "d43f1e52",
   "metadata": {},
   "outputs": [
    {
     "name": "stdout",
     "output_type": "stream",
     "text": [
      "   survived  pclass  sex  sibsp  parch     fare embarked  class    who  \\\n",
      "0         0       3    1      1      0   7.2500        S  Third    man   \n",
      "1         1       1    0      1      0  71.2833        C  First  woman   \n",
      "2         1       3    0      0      0   7.9250        S  Third  woman   \n",
      "3         1       1    0      1      0  53.1000        S  First  woman   \n",
      "4         0       3    1      0      0   8.0500        S  Third    man   \n",
      "\n",
      "   adult_male  embark_town  alive  alone  \n",
      "0        True  Southampton      0      0  \n",
      "1       False    Cherbourg      1      0  \n",
      "2       False  Southampton      1      1  \n",
      "3       False  Southampton      1      0  \n",
      "4        True  Southampton      0      1  \n"
     ]
    }
   ],
   "source": [
    "print(df.head())"
   ]
  },
  {
   "cell_type": "code",
   "execution_count": 50,
   "id": "05a62a6f",
   "metadata": {},
   "outputs": [
    {
     "data": {
      "image/png": "[encoded data removed]",
      "text/plain": [
       "<Figure size 640x480 with 1 Axes>"
      ]
     },
     "metadata": {},
     "output_type": "display_data"
    }
   ],
   "source": [
    "sns.regplot(x=\"sex\",y=\"survived\",data=df)\n",
    "plt.show()"
   ]
  },
  {
   "cell_type": "code",
   "execution_count": null,
   "id": "08732c94",
   "metadata": {},
   "outputs": [
    {
     "data": {
      "image/png": "[encoded data removed]",
      "text/plain": [
       "<Figure size 640x480 with 1 Axes>"
      ]
     },
     "metadata": {},
     "output_type": "display_data"
    }
   ],
   "source": [
    "sns.barplot(x='survived',y='sex',data=df)\n",
    "plt.show()   #1 male and 0 female"
   ]
  },
  {
   "cell_type": "code",
   "execution_count": 55,
   "id": "98e4517f",
   "metadata": {},
   "outputs": [
    {
     "data": {
      "image/png": "[encoded data removed]",
      "text/plain": [
       "<Figure size 640x480 with 1 Axes>"
      ]
     },
     "metadata": {},
     "output_type": "display_data"
    }
   ],
   "source": [
    "sns.lineplot(x='alone',y='survived',data=df)\n",
    "plt.show()"
   ]
  },
  {
   "cell_type": "code",
   "execution_count": 59,
   "id": "e614caa9",
   "metadata": {},
   "outputs": [
    {
     "data": {
      "text/plain": [
       "<Axes: xlabel='alone', ylabel='survived'>"
      ]
     },
     "execution_count": 59,
     "metadata": {},
     "output_type": "execute_result"
    },
    {
     "data": {
      "image/png": "[encoded data removed]",
      "text/plain": [
       "<Figure size 640x480 with 1 Axes>"
      ]
     },
     "metadata": {},
     "output_type": "display_data"
    }
   ],
   "source": [
    "sns.scatterplot(x='alone',y='survived',data=df)"
   ]
  },
  {
   "cell_type": "code",
   "execution_count": 65,
   "id": "1ae63741",
   "metadata": {},
   "outputs": [
    {
     "data": {
      "image/png": "[encoded data removed]",
      "text/plain": [
       "<Figure size 640x480 with 1 Axes>"
      ]
     },
     "metadata": {},
     "output_type": "display_data"
    }
   ],
   "source": [
    "plt.boxplot(df['sex'].dropna())\n",
    "plt.xlabel(\"class\")\n",
    "plt.show()\n"
   ]
  },
  {
   "cell_type": "code",
   "execution_count": 67,
   "id": "57d4027d",
   "metadata": {},
   "outputs": [
    {
     "data": {
      "image/png": "[encoded data removed]",
      "text/plain": [
       "<Figure size 640x480 with 1 Axes>"
      ]
     },
     "metadata": {},
     "output_type": "display_data"
    }
   ],
   "source": [
    "sns.histplot(df['class'],kde=True,bins=20)\n",
    "plt.show()"
   ]
  },
  {
   "cell_type": "code",
   "execution_count": 70,
   "id": "8319cecc",
   "metadata": {},
   "outputs": [
    {
     "data": {
      "image/png": "[encoded data removed]",
      "text/plain": [
       "<Figure size 640x480 with 2 Axes>"
      ]
     },
     "metadata": {},
     "output_type": "display_data"
    }
   ],
   "source": [
    "x=df[['sex','alone','pclass','parch','sibsp','fare']]\n",
    "y=x.corrwith(df['survived'])\n",
    "y= y.to_frame()\n",
    "sns.heatmap(y,annot=True)\n",
    "plt.show()"
   ]
  },
  {
   "cell_type": "code",
   "execution_count": null,
   "id": "ca03eacd",
   "metadata": {},
   "outputs": [],
   "source": []
  }
 ],
 "metadata": {
  "kernelspec": {
   "display_name": "Python 3.11 (Hopsworks)",
   "language": "python",
   "name": "hopsworks-env"
  },
  "language_info": {
   "codemirror_mode": {
    "name": "ipython",
    "version": 3
   },
   "file_extension": ".py",
   "mimetype": "text/x-python",
   "name": "python",
   "nbconvert_exporter": "python",
   "pygments_lexer": "ipython3",
   "version": "3.11.0"
  }
 },
 "nbformat": 4,
 "nbformat_minor": 5
}
